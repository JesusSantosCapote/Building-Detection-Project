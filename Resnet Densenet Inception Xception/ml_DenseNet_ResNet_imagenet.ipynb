{
  "cells": [
    {
      "cell_type": "code",
      "execution_count": null,
      "metadata": {
        "id": "KxFdETgvQ5RU"
      },
      "outputs": [],
      "source": [
        "!pip install awscli"
      ]
    },
    {
      "cell_type": "code",
      "execution_count": null,
      "metadata": {
        "id": "ymHXNz1qel--"
      },
      "outputs": [],
      "source": [
        "!pip install tensorflow tensorflow-gpu opencv-python matplotlib"
      ]
    },
    {
      "cell_type": "code",
      "execution_count": 35,
      "metadata": {
        "id": "wXZBzdoVfB1v"
      },
      "outputs": [],
      "source": [
        "import os\n",
        "list_building = ['airport_terminal','burial_site','park','stadium','zoo']"
      ]
    },
    {
      "cell_type": "code",
      "execution_count": 36,
      "metadata": {
        "id": "0UzEh0yKgXEX"
      },
      "outputs": [],
      "source": [
        "for bui in list_building:\n",
        "  os.mkdir(bui)\n",
        "\n"
      ]
    },
    {
      "cell_type": "code",
      "execution_count": 37,
      "metadata": {
        "colab": {
          "base_uri": "https://localhost:8080/"
        },
        "id": "_qtvil5zie81",
        "outputId": "b383aea9-18bc-4395-c51a-444a1a5e4ee8"
      },
      "outputs": [
        {
          "output_type": "stream",
          "name": "stdout",
          "text": [
            "/content\n"
          ]
        }
      ],
      "source": [
        "%cd ..\n"
      ]
    },
    {
      "cell_type": "code",
      "execution_count": null,
      "metadata": {
        "id": "7Nu8PifckCEv"
      },
      "outputs": [],
      "source": [
        "%cd airport_terminal\n",
        "!aws s3 cp s3://spacenet-dataset/Hosted-Datasets/fmow/fmow-rgb/train/airport_terminal/ . --recursive --no-sign-request\n",
        "%cd .."
      ]
    },
    {
      "cell_type": "code",
      "execution_count": null,
      "metadata": {
        "id": "TAAOy13nkCWM"
      },
      "outputs": [],
      "source": [
        "%cd burial_site\n",
        "!aws s3 cp s3://spacenet-dataset/Hosted-Datasets/fmow/fmow-rgb/train/burial_site/ . --recursive --no-sign-request\n",
        "%cd .."
      ]
    },
    {
      "cell_type": "code",
      "execution_count": null,
      "metadata": {
        "id": "cWphGWIcln4Q"
      },
      "outputs": [],
      "source": [
        "%cd park\n",
        "!aws s3 cp s3://spacenet-dataset/Hosted-Datasets/fmow/fmow-rgb/train/park/ . --recursive --no-sign-request\n",
        "%cd .."
      ]
    },
    {
      "cell_type": "code",
      "execution_count": null,
      "metadata": {
        "id": "uz0GploEln_H"
      },
      "outputs": [],
      "source": [
        "%cd stadium\n",
        "!aws s3 cp s3://spacenet-dataset/Hosted-Datasets/fmow/fmow-rgb/train/stadium/ . --recursive --no-sign-request\n",
        "%cd .."
      ]
    },
    {
      "cell_type": "code",
      "execution_count": null,
      "metadata": {
        "id": "5gaZv90skCub"
      },
      "outputs": [],
      "source": [
        "%cd zoo\n",
        "!aws s3 cp s3://spacenet-dataset/Hosted-Datasets/fmow/fmow-rgb/train/zoo/ . --recursive --no-sign-request\n",
        "%cd .."
      ]
    },
    {
      "cell_type": "code",
      "execution_count": 17,
      "metadata": {
        "colab": {
          "base_uri": "https://localhost:8080/"
        },
        "id": "96E1Hxm4k72r",
        "outputId": "52c14bcf-7c3d-44bf-ad5f-2e4f00edce7b"
      },
      "outputs": [
        {
          "output_type": "stream",
          "name": "stdout",
          "text": [
            "/content\n"
          ]
        }
      ],
      "source": [
        "%cd .."
      ]
    },
    {
      "cell_type": "code",
      "execution_count": 32,
      "metadata": {
        "id": "-4VV3jlOQqV-"
      },
      "outputs": [],
      "source": [
        "file_ = os.path.join('DataSet','zoo')\n",
        "file_dest = os.path.join('NewDS','zoo')\n",
        "#os.listdir(file_)\n",
        "# dir1 = os.path.join(file_,'airport_terminal_0')\n",
        "# os.listdir(dir1)"
      ]
    },
    {
      "cell_type": "code",
      "execution_count": 31,
      "metadata": {
        "colab": {
          "base_uri": "https://localhost:8080/"
        },
        "id": "YUNY_0g4QqV_",
        "outputId": "691667d4-a223-4c3d-cfe3-c4397ad9fcdc"
      },
      "outputs": [
        {
          "output_type": "stream",
          "name": "stdout",
          "text": [
            "/content\n"
          ]
        }
      ],
      "source": [
        "%cd .."
      ]
    },
    {
      "cell_type": "code",
      "execution_count": 33,
      "metadata": {
        "id": "gidSXkd06Bnr"
      },
      "outputs": [],
      "source": [
        "from PIL import Image\n",
        "import json\n",
        "\n",
        "def portal_method(size):\n",
        "  for sub_file1 in os.listdir(file_):\n",
        "    dir1 = os.path.join(file_,sub_file1)\n",
        "    for sub_file2 in os.listdir(dir1):\n",
        "      dir2 = os.path.join(dir1,sub_file2)\n",
        "      if os.path.splitext(dir2)[1] == '.json':\n",
        "        with open(dir2) as f:\n",
        "          try:\n",
        "            data = json.load(f)\n",
        "          except:\n",
        "            continue\n",
        "            reconstruct_from_config\n",
        "          bbox = data['bounding_boxes'][0]['box']\n",
        "          img_path = dir2[:-5]\n",
        "          im_p = img_path + '.jpg'\n",
        "          new_image = prepare_image(im_p,bbox,size,file_dest)\n",
        "          os.remove(im_p)\n",
        "          os.remove(dir2)\n",
        "\n",
        "def prepare_image(image_path, bbox, size,output_dir):\n",
        "    \"\"\"\n",
        "    Preprocesses an image for input to a CNN.\n",
        "\n",
        "    :param image_path: Path to the input image.\n",
        "    :type image_path: str\n",
        "    :param bbox: Bounding box coordinates in the format (x_min, y_min, x_max, y_max).\n",
        "    :type bbox: tuple\n",
        "    :param size: Size of the output image in pixels.\n",
        "    :type size: int\n",
        "    :return: Preprocessed image as a numpy array.\n",
        "    \"\"\"\n",
        "    # Open the image file\n",
        "    try:\n",
        "      image = Image.open(image_path)\n",
        "    except :\n",
        "      return\n",
        "    # Enlarge the bounding box in proportion to its size\n",
        "    width, height = image.size\n",
        "    x_min, y_min, x_max, y_max = bbox\n",
        "    if x_min > x_max or y_min > y_max:\n",
        "      return\n",
        "    box_width = x_max - x_min\n",
        "    box_height = y_max - y_min\n",
        "    box_size = max(box_width, box_height)\n",
        "    new_x_min = max(0, x_min - box_size // 2)\n",
        "    new_y_min = max(0, y_min - box_size // 2)\n",
        "    new_x_max = min(width, x_max + box_size // 2)\n",
        "    new_y_max = min(height, y_max + box_size // 2)\n",
        "    bbox = (new_x_min, new_y_min, new_x_max, new_y_max)\n",
        "\n",
        "    # Crop the image to the bounding box\n",
        "    image = image.crop(bbox)\n",
        "    # Resize the image for input to the CNN\n",
        "    image = image.resize((size, size))\n",
        "    # Convert the image to a numpy array\n",
        "    filename = f\"preprocessed_{os.path.basename(image_path)}\"\n",
        "    output_path = os.path.join(output_dir, filename)\n",
        "    image.save(output_path)\n",
        "\n",
        "portal_method(224)\n"
      ]
    },
    {
      "cell_type": "code",
      "source": [
        "import os\n",
        "import shutil\n",
        "file_destination = os.path.join('Test','airport_terminal')\n",
        "file_source = os.path.join('NewDS','airport_terminal')\n",
        "\n",
        "\n",
        "c = 0\n",
        "for x in os.listdir(file_source):\n",
        "  shutil.move(os.path.join(file_source,x), file_destination)\n",
        "  if c == 60:\n",
        "    break\n",
        "  c += 1\n"
      ],
      "metadata": {
        "id": "7i0oeB0ycCHL"
      },
      "execution_count": 42,
      "outputs": []
    },
    {
      "cell_type": "code",
      "source": [
        "!ls"
      ],
      "metadata": {
        "colab": {
          "base_uri": "https://localhost:8080/"
        },
        "id": "14poI5t3dfY_",
        "outputId": "c40662fb-6089-4ee2-a2c8-125b6fa29a85"
      },
      "execution_count": 38,
      "outputs": [
        {
          "output_type": "stream",
          "name": "stdout",
          "text": [
            "DataSet  NewDS\tsample_data  Test  Training\n"
          ]
        }
      ]
    },
    {
      "cell_type": "code",
      "execution_count": null,
      "metadata": {
        "id": "VgOkxRS0dlFU"
      },
      "outputs": [],
      "source": [
        "#cuidado donde correr esto, asegurarse de estar en el directorio correcto\n",
        "for fil in os.listdir(file_):\n",
        "  dir1 = os.path.join(file_,fil)\n",
        "  print(dir1)\n",
        "  # for file in os.listdir(dir1):\n",
        "      # if os.path.splitext(os.path.join(file_dir, file))[1] == '.json':\n",
        "      #     print(os.path.splitext(os.path.join(file_dir, file))[1])\n",
        "      # if file.endswith('.jpg') or file.endswith('.json'):\n",
        "      #     os.remove(os.path.join(dir1,file))\n",
        "      #     print('delete file,',os.path.join(file_dir, file))\n",
        "  if os.path.isdir(os.path.join(file_, fil)):\n",
        "    os.rmdir(os.path.join(file_, fil))\n",
        "    print('a')"
      ]
    },
    {
      "cell_type": "code",
      "execution_count": 49,
      "metadata": {
        "colab": {
          "base_uri": "https://localhost:8080/"
        },
        "id": "v0sojnO1uABx",
        "outputId": "63bea216-cad1-415e-dac3-13311060f789"
      },
      "outputs": [
        {
          "output_type": "execute_result",
          "data": {
            "text/plain": [
              "['stadium', 'zoo', 'park', 'airport_terminal', 'burial_site']"
            ]
          },
          "metadata": {},
          "execution_count": 49
        }
      ],
      "source": [
        "import os\n",
        "file_dir = 'NewDS'\n",
        "image_ext = ['jpeg','jpg','bmp','png']\n",
        "os.listdir(file_dir)\n"
      ]
    },
    {
      "cell_type": "code",
      "source": [
        "%cd .."
      ],
      "metadata": {
        "colab": {
          "base_uri": "https://localhost:8080/"
        },
        "id": "uIDC3BSlROQk",
        "outputId": "1cad695c-8631-4012-9298-ff4cbc534754"
      },
      "execution_count": 48,
      "outputs": [
        {
          "output_type": "stream",
          "name": "stdout",
          "text": [
            "/content\n"
          ]
        }
      ]
    },
    {
      "cell_type": "code",
      "execution_count": 50,
      "metadata": {
        "id": "CBMvBZ7Nu3G1"
      },
      "outputs": [],
      "source": [
        "for x in os.listdir(file_dir):\n",
        "  c = 0\n",
        "  for y in os.listdir(os.path.join(file_dir,x)):\n",
        "    if c >= 1000:\n",
        "      os.remove(os.path.join(file_dir,x,y))\n",
        "    c += 1"
      ]
    },
    {
      "cell_type": "code",
      "execution_count": 51,
      "metadata": {
        "id": "_Hbcn7GedaAn"
      },
      "outputs": [],
      "source": [
        "import tensorflow as tf\n",
        "import os\n",
        "import cv2\n",
        "import imghdr\n",
        "import numpy as np\n",
        "import matplotlib.pyplot as plt\n",
        "import numpy as np\n",
        "import json\n",
        "from PIL import Image\n",
        "from sklearn.model_selection import train_test_split\n",
        "from keras.preprocessing.image import ImageDataGenerator"
      ]
    },
    {
      "cell_type": "code",
      "execution_count": 52,
      "metadata": {
        "colab": {
          "base_uri": "https://localhost:8080/"
        },
        "id": "zM6EAthFdlL8",
        "outputId": "e8346a2d-611a-46c1-c846-490592f9898e"
      },
      "outputs": [
        {
          "output_type": "stream",
          "name": "stdout",
          "text": [
            "Found 5000 images belonging to 5 classes.\n"
          ]
        }
      ],
      "source": [
        "datagen = ImageDataGenerator(rescale=1./255)\n",
        "train_dir = 'NewDS'\n",
        "train_generator= datagen.flow_from_directory(train_dir,target_size=(224,224),class_mode='categorical',batch_size=32)\n",
        "\n",
        "\n",
        "num_classes = train_generator.num_classes"
      ]
    },
    {
      "cell_type": "code",
      "source": [
        "test_dir = 'Test'\n",
        "test_generator = datagen.flow_from_directory(test_dir,target_size=(224,224),class_mode='categorical',batch_size=32)"
      ],
      "metadata": {
        "colab": {
          "base_uri": "https://localhost:8080/"
        },
        "id": "C-YWiS6PefGv",
        "outputId": "29bba81b-f516-4709-ea3f-261616e718df"
      },
      "execution_count": 53,
      "outputs": [
        {
          "output_type": "stream",
          "name": "stdout",
          "text": [
            "Found 305 images belonging to 5 classes.\n"
          ]
        }
      ]
    },
    {
      "cell_type": "code",
      "source": [
        "import os\n",
        "from sklearn.model_selection import train_test_split\n",
        "from keras.preprocessing.image import ImageDataGenerator\n",
        "\n",
        "# Ruta del conjunto de entrenamiento\n",
        "ruta_entrenamiento = 'NewDS'\n",
        "\n",
        "# Proporción del conjunto de validación\n",
        "proporcion_validacion = 0.2\n",
        "\n",
        "# Crear un objeto ImageDataGenerator\n",
        "datagen = ImageDataGenerator(validation_split=proporcion_validacion,rescale=1./255)\n",
        "\n",
        "\n",
        "# Cargar los datos de entrenamiento y validación utilizando ImageDataGenerator\n",
        "train_generator = datagen.flow_from_directory(ruta_entrenamiento,\n",
        "                                              target_size=(224, 224),\n",
        "                                              batch_size=32,\n",
        "                                              class_mode='categorical',\n",
        "                                              subset='training',)\n",
        "num_classes = train_generator.num_classes\n",
        "\n",
        "val_generator = datagen.flow_from_directory(ruta_entrenamiento,\n",
        "                                            target_size=(224, 224),\n",
        "                                            batch_size=32,\n",
        "                                            class_mode='categorical',\n",
        "                                            subset='validation',)\n",
        "\n",
        "# Dividir los datos de entrenamiento en conjuntos de entrenamiento y validación utilizando train_test_split\n",
        "train_files, val_files = train_test_split(train_generator.filenames, test_size=proporcion_validacion, random_state=42)\n",
        "\n",
        "# Imprimir el número de archivos en el conjunto de entrenamiento y validación\n",
        "print(f'Número de archivos de entrenamiento: {len(train_files)}')\n",
        "print(f'Número de archivos de validación: {len(val_files)}')"
      ],
      "metadata": {
        "colab": {
          "base_uri": "https://localhost:8080/"
        },
        "id": "yYyKR9yNgwZd",
        "outputId": "9e11c414-960b-4420-e5e9-5802349be881"
      },
      "execution_count": 54,
      "outputs": [
        {
          "output_type": "stream",
          "name": "stdout",
          "text": [
            "Found 4000 images belonging to 5 classes.\n",
            "Found 1000 images belonging to 5 classes.\n",
            "Número de archivos de entrenamiento: 3200\n",
            "Número de archivos de validación: 800\n"
          ]
        }
      ]
    },
    {
      "cell_type": "markdown",
      "metadata": {
        "id": "1DYJpjD-2j6c"
      },
      "source": [
        "**Model**"
      ]
    },
    {
      "cell_type": "code",
      "execution_count": 55,
      "metadata": {
        "id": "RkqFYcvF4Fxa"
      },
      "outputs": [],
      "source": [
        "pre = tf.keras.metrics.Precision()\n",
        "acc = tf.keras.metrics.CategoricalAccuracy()\n",
        "batch_size = 16\n"
      ]
    },
    {
      "cell_type": "code",
      "execution_count": 56,
      "metadata": {
        "colab": {
          "base_uri": "https://localhost:8080/"
        },
        "id": "RwlE1isp2bnC",
        "outputId": "7b412de4-f90e-4e84-a6d4-98223fe25db7"
      },
      "outputs": [
        {
          "output_type": "stream",
          "name": "stdout",
          "text": [
            "Downloading data from https://storage.googleapis.com/tensorflow/keras-applications/densenet/densenet121_weights_tf_dim_ordering_tf_kernels.h5\n",
            "33188688/33188688 [==============================] - 2s 0us/step\n",
            "Downloading data from https://storage.googleapis.com/tensorflow/keras-applications/resnet/resnet152_weights_tf_dim_ordering_tf_kernels.h5\n",
            "242900224/242900224 [==============================] - 11s 0us/step\n"
          ]
        }
      ],
      "source": [
        "from keras.models import Model\n",
        "from keras.layers import Input, concatenate, Dense, Dropout, Flatten,Reshape\n",
        "from keras.applications.densenet import DenseNet121\n",
        "from keras.applications.resnet import ResNet152\n",
        "from keras.applications.inception_v3 import InceptionV3\n",
        "from keras.applications.xception import Xception\n",
        "from keras import backend\n",
        "\n",
        "# Load DenseNet121 model\n",
        "densenet_model = DenseNet121(weights='imagenet')\n",
        "\n",
        "# Load ResNet152 model\n",
        "resnet_model = ResNet152(weights='imagenet')\n",
        "\n",
        "# # Load InceptionV3 model\n",
        "#inception_model = InceptionV3(weights='imagenet')\n",
        "\n",
        "# # Load Xception model\n",
        "#ception_model = Xception(weights= 'imagenet')\n",
        "\n",
        "# Define the input shape for all models\n",
        "input_shape = (224, 224, 3)\n",
        "\n",
        "# Define the input tensor for all models\n",
        "input_tensor = Input(shape=input_shape)\n",
        "\n",
        "# Get the output tensors for all models\n",
        "densenet_output = densenet_model(input_tensor)\n",
        "resnet_output = resnet_model(input_tensor)\n",
        "#inception_output = inception_model(input_tensor)\n",
        "#xception_output = xception_model(input_tensor)\n",
        "\n",
        "# Concatenate the outputs of all models\n",
        "merged = concatenate([densenet_output,resnet_output])\n",
        "\n",
        "# Add a fully-connected layer with dropout and a logistic layer for the number of classes\n",
        "x = Dense(1024, activation='relu')(merged)\n",
        "x = Dropout(0.5)(x)\n",
        "predictions = Dense(num_classes, activation='softmax')(x)\n",
        "\n",
        "\n",
        "# predicted_class = np.argmax(predictions,axis=1)\n",
        "# reshape_layer = Reshape((1,))\n",
        "# predicted_class_reshaped= reshape_layer(predicted_class)\n",
        "\n",
        "# Define the model with input tensor and output tensor\n",
        "model = Model(inputs=input_tensor, outputs=predictions)\n",
        "\n",
        "# Compile the model with categorical cross-entropy loss and Adam optimizer\n",
        "\n",
        "model.compile(loss='categorical_crossentropy', optimizer='adam', metrics=[acc,pre])\n"
      ]
    },
    {
      "cell_type": "code",
      "execution_count": 57,
      "metadata": {
        "id": "gYA3RgTjGH8z"
      },
      "outputs": [],
      "source": [
        "logdir = 'logs'"
      ]
    },
    {
      "cell_type": "code",
      "execution_count": 58,
      "metadata": {
        "id": "s2xX-Sp-GH_G"
      },
      "outputs": [],
      "source": [
        "tensorboard_callback = tf.keras.callbacks.TensorBoard(log_dir=logdir)"
      ]
    },
    {
      "cell_type": "code",
      "execution_count": 59,
      "metadata": {
        "colab": {
          "base_uri": "https://localhost:8080/"
        },
        "id": "1mOsZvOZQqWQ",
        "outputId": "3ab88f19-a687-443d-bb01-8b762de34be1"
      },
      "outputs": [
        {
          "output_type": "stream",
          "name": "stdout",
          "text": [
            "Epoch 1/8\n",
            "70/70 [==============================] - 320s 1s/step - loss: 1.5238 - categorical_accuracy: 0.3688 - precision: 0.2857 - val_loss: 1.6373 - val_categorical_accuracy: 0.2000 - val_precision: 0.0000e+00\n",
            "Epoch 2/8\n",
            "70/70 [==============================] - 102s 1s/step - loss: 1.4224 - categorical_accuracy: 0.3518 - precision: 0.4154 - val_loss: 1.6505 - val_categorical_accuracy: 0.1980 - val_precision: 0.0000e+00\n",
            "Epoch 3/8\n",
            "70/70 [==============================] - 92s 1s/step - loss: 1.3848 - categorical_accuracy: 0.3772 - precision: 0.5034 - val_loss: 1.7277 - val_categorical_accuracy: 0.2000 - val_precision: 0.0000e+00\n",
            "Epoch 4/8\n",
            "70/70 [==============================] - 91s 1s/step - loss: 1.3211 - categorical_accuracy: 0.4420 - precision: 0.5607 - val_loss: 2.2156 - val_categorical_accuracy: 0.2350 - val_precision: 0.1495\n",
            "Epoch 5/8\n",
            "70/70 [==============================] - 91s 1s/step - loss: 1.3248 - categorical_accuracy: 0.4348 - precision: 0.5595 - val_loss: 2.1558 - val_categorical_accuracy: 0.2770 - val_precision: 0.2816\n",
            "Epoch 6/8\n",
            "70/70 [==============================] - 91s 1s/step - loss: 1.2763 - categorical_accuracy: 0.4612 - precision: 0.5881 - val_loss: 1.7580 - val_categorical_accuracy: 0.3460 - val_precision: 0.3827\n",
            "Epoch 7/8\n",
            "70/70 [==============================] - 91s 1s/step - loss: 1.2186 - categorical_accuracy: 0.4884 - precision: 0.6292 - val_loss: 2.6710 - val_categorical_accuracy: 0.2370 - val_precision: 0.2116\n",
            "Epoch 8/8\n",
            "70/70 [==============================] - 91s 1s/step - loss: 1.1692 - categorical_accuracy: 0.5281 - precision: 0.6874 - val_loss: 2.2473 - val_categorical_accuracy: 0.3470 - val_precision: 0.3454\n"
          ]
        }
      ],
      "source": [
        "history_model = model.fit(train_generator,epochs=8,steps_per_epoch=70,validation_data=val_generator,callbacks=[tensorboard_callback])"
      ]
    },
    {
      "cell_type": "code",
      "execution_count": 60,
      "metadata": {
        "colab": {
          "base_uri": "https://localhost:8080/"
        },
        "id": "9TLrbGPdGIDt",
        "outputId": "00c889d5-38c8-402b-a4e6-02baca847509"
      },
      "outputs": [
        {
          "output_type": "execute_result",
          "data": {
            "text/plain": [
              "{'loss': [1.5238186120986938,\n",
              "  1.4223601818084717,\n",
              "  1.3847882747650146,\n",
              "  1.3211380243301392,\n",
              "  1.324782371520996,\n",
              "  1.2762656211853027,\n",
              "  1.2186176776885986,\n",
              "  1.1691633462905884],\n",
              " 'categorical_accuracy': [0.3687500059604645,\n",
              "  0.35178571939468384,\n",
              "  0.3772321343421936,\n",
              "  0.4419642984867096,\n",
              "  0.4348214268684387,\n",
              "  0.46116071939468384,\n",
              "  0.4883928596973419,\n",
              "  0.528124988079071],\n",
              " 'precision': [0.2857142984867096,\n",
              "  0.4153846204280853,\n",
              "  0.5034482479095459,\n",
              "  0.560675859451294,\n",
              "  0.5595238208770752,\n",
              "  0.5880721211433411,\n",
              "  0.6292397379875183,\n",
              "  0.6873747706413269],\n",
              " 'val_loss': [1.637275218963623,\n",
              "  1.650496482849121,\n",
              "  1.7276721000671387,\n",
              "  2.215587615966797,\n",
              "  2.1558470726013184,\n",
              "  1.7580375671386719,\n",
              "  2.671001434326172,\n",
              "  2.2472732067108154],\n",
              " 'val_categorical_accuracy': [0.20000000298023224,\n",
              "  0.1979999989271164,\n",
              "  0.20000000298023224,\n",
              "  0.23499999940395355,\n",
              "  0.2770000100135803,\n",
              "  0.34599998593330383,\n",
              "  0.2370000034570694,\n",
              "  0.34700000286102295],\n",
              " 'val_precision': [0.0,\n",
              "  0.0,\n",
              "  0.0,\n",
              "  0.1495145559310913,\n",
              "  0.28160327672958374,\n",
              "  0.3826979398727417,\n",
              "  0.2116004228591919,\n",
              "  0.3454345464706421]}"
            ]
          },
          "metadata": {},
          "execution_count": 60
        }
      ],
      "source": [
        "history_model.history"
      ]
    },
    {
      "cell_type": "code",
      "source": [
        "import numpy as np\n",
        "\n",
        "# Obtener las predicciones para el conjunto de datos de prueba\n",
        "predictions = model.predict(test_generator)\n",
        "\n",
        "# Obtener el índice de la clase con la probabilidad más alta para cada entrada\n",
        "predicted_classes = np.argmax(predictions, axis=1)\n",
        "\n",
        "# Obtener las etiquetas verdaderas del conjunto de datos de prueba\n",
        "true_classes = test_generator.classes\n",
        "\n",
        "# Calcular la tasa de error\n",
        "error_rate = np.mean(predicted_classes != true_classes)\n",
        "\n",
        "# Imprimir la tasa de error\n",
        "print('Error rate:', error_rate)"
      ],
      "metadata": {
        "colab": {
          "base_uri": "https://localhost:8080/"
        },
        "id": "C3kLKVEnbmsF",
        "outputId": "8f690a21-95c9-4716-cda1-4760d54329ff"
      },
      "execution_count": 92,
      "outputs": [
        {
          "output_type": "stream",
          "name": "stdout",
          "text": [
            "10/10 [==============================] - 4s 299ms/step\n",
            "Error rate: 0.8\n"
          ]
        }
      ]
    },
    {
      "cell_type": "code",
      "source": [
        "import matplotlib.pyplot as plt\n",
        "\n",
        "# Obtener los datos de entrenamiento\n",
        "train_loss = history_model.history['loss']\n",
        "train_acc = history_model.history['categorical_accuracy']\n",
        "train_prec = history_model.history['precision']\n",
        "\n",
        "# Obtener los datos de validación\n",
        "val_loss = history_model.history['val_loss']\n",
        "val_acc = history_model.history['val_categorical_accuracy']\n",
        "val_prec = history_model.history['val_precision']\n",
        "\n",
        "# Crear subplots para las métricas\n",
        "fig, (ax1, ax2, ax3) = plt.subplots(1, 3, figsize=(15, 5))\n",
        "\n",
        "# Plotear la pérdida\n",
        "ax1.plot(train_loss, label='Training Loss')\n",
        "ax1.plot(val_loss, label='Validation Loss')\n",
        "ax1.set_title('Loss')\n",
        "ax1.legend()\n",
        "\n",
        "# Plotear la precisión\n",
        "ax2.plot(train_acc, label='Training Accuracy')\n",
        "ax2.plot(val_acc, label='Validation Accuracy')\n",
        "ax2.set_title('Accuracy')\n",
        "ax2.legend()\n",
        "\n",
        "# Plotear la precisión de la clase positiva\n",
        "ax3.plot(train_prec, label='Training Precision')\n",
        "ax3.plot(val_prec, label='Validation Precision')\n",
        "ax3.set_title('Positive Precision')\n",
        "ax3.legend()\n",
        "\n",
        "plt.show()"
      ],
      "metadata": {
        "colab": {
          "base_uri": "https://localhost:8080/",
          "height": 488
        },
        "id": "_y8BpODYWZDk",
        "outputId": "bbe61982-e449-4e35-8481-007fce975f26"
      },
      "execution_count": 84,
      "outputs": [
        {
          "output_type": "display_data",
          "data": {
            "text/plain": [
              "<Figure size 1500x500 with 3 Axes>"
            ],
            "image/png": "[encoded data removed]"
          },
          "metadata": {}
        }
      ]
    },
    {
      "cell_type": "code",
      "source": [
        "import matplotlib.pyplot as plt\n",
        "\n",
        "# Datos de entrenamiento\n",
        "loss = [1.5238186120986938,\n",
        "  1.4223601818084717,\n",
        "  1.3847882747650146,\n",
        "  1.3211380243301392,\n",
        "  1.324782371520996,\n",
        "  1.2762656211853027,\n",
        "  1.2186176776885986,\n",
        "  1.1691633462905884]\n",
        "categorical_accuracy = [0.3687500059604645,\n",
        "  0.35178571939468384,\n",
        "  0.3772321343421936,\n",
        "  0.4419642984867096,\n",
        "  0.4348214268684387,\n",
        "  0.46116071939468384,\n",
        "  0.4883928596973419,\n",
        "  0.528124988079071]\n",
        "precision =  [0.2857142984867096,\n",
        "  0.4153846204280853,\n",
        "  0.5034482479095459,\n",
        "  0.560675859451294,\n",
        "  0.5595238208770752,\n",
        "  0.5880721211433411,\n",
        "  0.6292397379875183,\n",
        "  0.6873747706413269]\n",
        "\n",
        "# Graficar las curvas de entrenamiento\n",
        "epochs = range(1, len(loss) + 1)\n",
        "plt.plot(epochs, loss, 'b', label='Pérdida')\n",
        "plt.plot(epochs, categorical_accuracy, 'r', label='Precisión categórica')\n",
        "plt.plot(epochs, precision, 'g', label='Precisión')\n",
        "plt.title('Curvas de entrenamiento')\n",
        "plt.xlabel('Época')\n",
        "plt.legend()\n",
        "plt.show()"
      ],
      "metadata": {
        "colab": {
          "base_uri": "https://localhost:8080/",
          "height": 474
        },
        "id": "z71QSK2PYOxk",
        "outputId": "477511e4-f92b-463f-9619-b8f4a36e93cd"
      },
      "execution_count": 85,
      "outputs": [
        {
          "output_type": "display_data",
          "data": {
            "text/plain": [
              "<Figure size 640x480 with 1 Axes>"
            ],
            "image/png": "[encoded data removed]"
          },
          "metadata": {}
        }
      ]
    },
    {
      "cell_type": "code",
      "execution_count": 86,
      "metadata": {
        "id": "3YgvMZhLQQN7",
        "colab": {
          "base_uri": "https://localhost:8080/",
          "height": 474
        },
        "outputId": "973357b1-d241-4532-9afd-1ed71065dd70"
      },
      "outputs": [
        {
          "output_type": "display_data",
          "data": {
            "text/plain": [
              "<Figure size 640x480 with 1 Axes>"
            ],
            "image/png": "[encoded data removed]"
          },
          "metadata": {}
        }
      ],
      "source": [
        "import matplotlib.pyplot as plt\n",
        "\n",
        "# Datos de entrenamiento\n",
        "loss = [1.637275218963623,\n",
        "  1.650496482849121,\n",
        "  1.7276721000671387,\n",
        "  2.215587615966797,\n",
        "  2.1558470726013184,\n",
        "  1.7580375671386719,\n",
        "  2.671001434326172,\n",
        "  2.2472732067108154]\n",
        "categorical_accuracy = [0.20000000298023224,\n",
        "  0.1979999989271164,\n",
        "  0.20000000298023224,\n",
        "  0.23499999940395355,\n",
        "  0.2770000100135803,\n",
        "  0.34599998593330383,\n",
        "  0.2370000034570694,\n",
        "  0.34700000286102295]\n",
        "precision =  [0.0,\n",
        "  0.0,\n",
        "  0.0,\n",
        "  0.1495145559310913,\n",
        "  0.28160327672958374,\n",
        "  0.3826979398727417,\n",
        "  0.2116004228591919,\n",
        "  0.3454345464706421]\n",
        "\n",
        "# Graficar las curvas de entrenamiento\n",
        "epochs = range(1, len(loss) + 1)\n",
        "plt.plot(epochs, loss, 'b', label='Pérdida')\n",
        "plt.plot(epochs, categorical_accuracy, 'r', label='Precisión categórica')\n",
        "plt.plot(epochs, precision, 'g', label='Precisión')\n",
        "plt.title('Curvas de validación')\n",
        "plt.xlabel('Época')\n",
        "plt.legend()\n",
        "plt.show()"
      ]
    }
  ],
  "metadata": {
    "colab": {
      "provenance": [],
      "gpuType": "T4"
    },
    "kernelspec": {
      "display_name": "Python 3",
      "name": "python3"
    },
    "language_info": {
      "codemirror_mode": {
        "name": "ipython",
        "version": 3
      },
      "file_extension": ".py",
      "mimetype": "text/x-python",
      "name": "python",
      "nbconvert_exporter": "python",
      "pygments_lexer": "ipython3",
      "version": "3.9.5"
    },
    "accelerator": "GPU"
  },
  "nbformat": 4,
  "nbformat_minor": 0
}