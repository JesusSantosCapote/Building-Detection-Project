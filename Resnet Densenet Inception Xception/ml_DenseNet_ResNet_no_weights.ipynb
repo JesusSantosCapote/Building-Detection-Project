{
  "cells": [
    {
      "cell_type": "code",
      "execution_count": null,
      "metadata": {
        "id": "KxFdETgvQ5RU"
      },
      "outputs": [],
      "source": [
        "!pip install awscli"
      ]
    },
    {
      "cell_type": "code",
      "execution_count": null,
      "metadata": {
        "id": "ymHXNz1qel--"
      },
      "outputs": [],
      "source": [
        "!pip install tensorflow tensorflow-gpu opencv-python matplotlib"
      ]
    },
    {
      "cell_type": "code",
      "execution_count": 35,
      "metadata": {
        "id": "wXZBzdoVfB1v"
      },
      "outputs": [],
      "source": [
        "import os\n",
        "list_building = ['airport_terminal','burial_site','park','stadium','zoo']"
      ]
    },
    {
      "cell_type": "code",
      "execution_count": 36,
      "metadata": {
        "id": "0UzEh0yKgXEX"
      },
      "outputs": [],
      "source": [
        "for bui in list_building:\n",
        "  os.mkdir(bui)\n",
        "\n"
      ]
    },
    {
      "cell_type": "code",
      "execution_count": 37,
      "metadata": {
        "colab": {
          "base_uri": "https://localhost:8080/"
        },
        "id": "_qtvil5zie81",
        "outputId": "b383aea9-18bc-4395-c51a-444a1a5e4ee8"
      },
      "outputs": [
        {
          "name": "stdout",
          "output_type": "stream",
          "text": [
            "/content\n"
          ]
        }
      ],
      "source": [
        "%cd ..\n"
      ]
    },
    {
      "cell_type": "code",
      "execution_count": null,
      "metadata": {
        "id": "7Nu8PifckCEv"
      },
      "outputs": [],
      "source": [
        "%cd airport_terminal\n",
        "!aws s3 cp s3://spacenet-dataset/Hosted-Datasets/fmow/fmow-rgb/train/airport_terminal/ . --recursive --no-sign-request\n",
        "%cd .."
      ]
    },
    {
      "cell_type": "code",
      "execution_count": null,
      "metadata": {
        "id": "TAAOy13nkCWM"
      },
      "outputs": [],
      "source": [
        "%cd burial_site\n",
        "!aws s3 cp s3://spacenet-dataset/Hosted-Datasets/fmow/fmow-rgb/train/burial_site/ . --recursive --no-sign-request\n",
        "%cd .."
      ]
    },
    {
      "cell_type": "code",
      "execution_count": null,
      "metadata": {
        "id": "cWphGWIcln4Q"
      },
      "outputs": [],
      "source": [
        "%cd park\n",
        "!aws s3 cp s3://spacenet-dataset/Hosted-Datasets/fmow/fmow-rgb/train/park/ . --recursive --no-sign-request\n",
        "%cd .."
      ]
    },
    {
      "cell_type": "code",
      "execution_count": null,
      "metadata": {
        "id": "uz0GploEln_H"
      },
      "outputs": [],
      "source": [
        "%cd stadium\n",
        "!aws s3 cp s3://spacenet-dataset/Hosted-Datasets/fmow/fmow-rgb/train/stadium/ . --recursive --no-sign-request\n",
        "%cd .."
      ]
    },
    {
      "cell_type": "code",
      "execution_count": null,
      "metadata": {
        "id": "5gaZv90skCub"
      },
      "outputs": [],
      "source": [
        "%cd zoo\n",
        "!aws s3 cp s3://spacenet-dataset/Hosted-Datasets/fmow/fmow-rgb/train/zoo/ . --recursive --no-sign-request\n",
        "%cd .."
      ]
    },
    {
      "cell_type": "code",
      "execution_count": 17,
      "metadata": {
        "colab": {
          "base_uri": "https://localhost:8080/"
        },
        "id": "96E1Hxm4k72r",
        "outputId": "52c14bcf-7c3d-44bf-ad5f-2e4f00edce7b"
      },
      "outputs": [
        {
          "name": "stdout",
          "output_type": "stream",
          "text": [
            "/content\n"
          ]
        }
      ],
      "source": [
        "%cd .."
      ]
    },
    {
      "cell_type": "code",
      "execution_count": 32,
      "metadata": {
        "id": "-4VV3jlOQqV-"
      },
      "outputs": [],
      "source": [
        "file_ = os.path.join('DataSet','zoo')\n",
        "file_dest = os.path.join('NewDS','zoo')\n",
        "#os.listdir(file_)\n",
        "# dir1 = os.path.join(file_,'airport_terminal_0')\n",
        "# os.listdir(dir1)"
      ]
    },
    {
      "cell_type": "code",
      "execution_count": 31,
      "metadata": {
        "colab": {
          "base_uri": "https://localhost:8080/"
        },
        "id": "YUNY_0g4QqV_",
        "outputId": "691667d4-a223-4c3d-cfe3-c4397ad9fcdc"
      },
      "outputs": [
        {
          "name": "stdout",
          "output_type": "stream",
          "text": [
            "/content\n"
          ]
        }
      ],
      "source": [
        "%cd .."
      ]
    },
    {
      "cell_type": "code",
      "execution_count": 33,
      "metadata": {
        "id": "gidSXkd06Bnr"
      },
      "outputs": [],
      "source": [
        "from PIL import Image\n",
        "import json\n",
        "\n",
        "def portal_method(size):\n",
        "  for sub_file1 in os.listdir(file_):\n",
        "    dir1 = os.path.join(file_,sub_file1)\n",
        "    for sub_file2 in os.listdir(dir1):\n",
        "      dir2 = os.path.join(dir1,sub_file2)\n",
        "      if os.path.splitext(dir2)[1] == '.json':\n",
        "        with open(dir2) as f:\n",
        "          try:\n",
        "            data = json.load(f)\n",
        "          except:\n",
        "            continue\n",
        "            reconstruct_from_config\n",
        "          bbox = data['bounding_boxes'][0]['box']\n",
        "          img_path = dir2[:-5]\n",
        "          im_p = img_path + '.jpg'\n",
        "          new_image = prepare_image(im_p,bbox,size,file_dest)\n",
        "          os.remove(im_p)\n",
        "          os.remove(dir2)\n",
        "\n",
        "def prepare_image(image_path, bbox, size,output_dir):\n",
        "    \"\"\"\n",
        "    Preprocesses an image for input to a CNN.\n",
        "\n",
        "    :param image_path: Path to the input image.\n",
        "    :type image_path: str\n",
        "    :param bbox: Bounding box coordinates in the format (x_min, y_min, x_max, y_max).\n",
        "    :type bbox: tuple\n",
        "    :param size: Size of the output image in pixels.\n",
        "    :type size: int\n",
        "    :return: Preprocessed image as a numpy array.\n",
        "    \"\"\"\n",
        "    # Open the image file\n",
        "    try:\n",
        "      image = Image.open(image_path)\n",
        "    except :\n",
        "      return\n",
        "    # Enlarge the bounding box in proportion to its size\n",
        "    width, height = image.size\n",
        "    x_min, y_min, x_max, y_max = bbox\n",
        "    if x_min > x_max or y_min > y_max:\n",
        "      return\n",
        "    box_width = x_max - x_min\n",
        "    box_height = y_max - y_min\n",
        "    box_size = max(box_width, box_height)\n",
        "    new_x_min = max(0, x_min - box_size // 2)\n",
        "    new_y_min = max(0, y_min - box_size // 2)\n",
        "    new_x_max = min(width, x_max + box_size // 2)\n",
        "    new_y_max = min(height, y_max + box_size // 2)\n",
        "    bbox = (new_x_min, new_y_min, new_x_max, new_y_max)\n",
        "\n",
        "    # Crop the image to the bounding box\n",
        "    image = image.crop(bbox)\n",
        "    # Resize the image for input to the CNN\n",
        "    image = image.resize((size, size))\n",
        "    # Convert the image to a numpy array\n",
        "    filename = f\"preprocessed_{os.path.basename(image_path)}\"\n",
        "    output_path = os.path.join(output_dir, filename)\n",
        "    image.save(output_path)\n",
        "\n",
        "portal_method(224)\n"
      ]
    },
    {
      "cell_type": "code",
      "execution_count": 4,
      "metadata": {
        "id": "7i0oeB0ycCHL"
      },
      "outputs": [],
      "source": [
        "import os\n",
        "import shutil\n",
        "file_destination = os.path.join('Test','zoo')\n",
        "file_source = os.path.join('NewDS','zoo')\n",
        "\n",
        "\n",
        "c = 0\n",
        "for x in os.listdir(file_source):\n",
        "  shutil.move(os.path.join(file_source,x), file_destination)\n",
        "  if c == 100:\n",
        "    break\n",
        "  c += 1\n"
      ]
    },
    {
      "cell_type": "code",
      "execution_count": 38,
      "metadata": {
        "colab": {
          "base_uri": "https://localhost:8080/"
        },
        "id": "14poI5t3dfY_",
        "outputId": "c40662fb-6089-4ee2-a2c8-125b6fa29a85"
      },
      "outputs": [
        {
          "name": "stdout",
          "output_type": "stream",
          "text": [
            "DataSet  NewDS\tsample_data  Test  Training\n"
          ]
        }
      ],
      "source": [
        "!ls"
      ]
    },
    {
      "cell_type": "code",
      "execution_count": null,
      "metadata": {
        "id": "VgOkxRS0dlFU"
      },
      "outputs": [],
      "source": [
        "#cuidado donde correr esto, asegurarse de estar en el directorio correcto\n",
        "for fil in os.listdir(file_):\n",
        "  dir1 = os.path.join(file_,fil)\n",
        "  print(dir1)\n",
        "  # for file in os.listdir(dir1):\n",
        "      # if os.path.splitext(os.path.join(file_dir, file))[1] == '.json':\n",
        "      #     print(os.path.splitext(os.path.join(file_dir, file))[1])\n",
        "      # if file.endswith('.jpg') or file.endswith('.json'):\n",
        "      #     os.remove(os.path.join(dir1,file))\n",
        "      #     print('delete file,',os.path.join(file_dir, file))\n",
        "  if os.path.isdir(os.path.join(file_, fil)):\n",
        "    os.rmdir(os.path.join(file_, fil))\n",
        "    print('a')"
      ]
    },
    {
      "cell_type": "code",
      "execution_count": 49,
      "metadata": {
        "colab": {
          "base_uri": "https://localhost:8080/"
        },
        "id": "v0sojnO1uABx",
        "outputId": "63bea216-cad1-415e-dac3-13311060f789"
      },
      "outputs": [
        {
          "data": {
            "text/plain": [
              "['stadium', 'zoo', 'park', 'airport_terminal', 'burial_site']"
            ]
          },
          "execution_count": 49,
          "metadata": {},
          "output_type": "execute_result"
        }
      ],
      "source": [
        "import os\n",
        "file_dir = 'NewDS'\n",
        "image_ext = ['jpeg','jpg','bmp','png']\n",
        "os.listdir(file_dir)\n"
      ]
    },
    {
      "cell_type": "code",
      "execution_count": 48,
      "metadata": {
        "colab": {
          "base_uri": "https://localhost:8080/"
        },
        "id": "uIDC3BSlROQk",
        "outputId": "1cad695c-8631-4012-9298-ff4cbc534754"
      },
      "outputs": [
        {
          "name": "stdout",
          "output_type": "stream",
          "text": [
            "/content\n"
          ]
        }
      ],
      "source": [
        "%cd .."
      ]
    },
    {
      "cell_type": "code",
      "execution_count": 50,
      "metadata": {
        "id": "CBMvBZ7Nu3G1"
      },
      "outputs": [],
      "source": [
        "for x in os.listdir(file_dir):\n",
        "  c = 0\n",
        "  for y in os.listdir(os.path.join(file_dir,x)):\n",
        "    if c >= 1000:\n",
        "      os.remove(os.path.join(file_dir,x,y))\n",
        "    c += 1"
      ]
    },
    {
      "cell_type": "code",
      "execution_count": 1,
      "metadata": {
        "id": "_Hbcn7GedaAn"
      },
      "outputs": [],
      "source": [
        "import tensorflow as tf\n",
        "import os\n",
        "import numpy as np\n",
        "import matplotlib.pyplot as plt\n",
        "import numpy as np\n",
        "import json\n",
        "from PIL import Image\n",
        "from sklearn.model_selection import train_test_split\n",
        "from keras.preprocessing.image import ImageDataGenerator"
      ]
    },
    {
      "cell_type": "code",
      "execution_count": 2,
      "metadata": {
        "colab": {
          "base_uri": "https://localhost:8080/"
        },
        "id": "zM6EAthFdlL8",
        "outputId": "e8346a2d-611a-46c1-c846-490592f9898e"
      },
      "outputs": [
        {
          "name": "stdout",
          "output_type": "stream",
          "text": [
            "Found 18089 images belonging to 4 classes.\n"
          ]
        }
      ],
      "source": [
        "datagen = ImageDataGenerator(rescale=1./255)\n",
        "train_dir = 'NewDS'\n",
        "train_generator= datagen.flow_from_directory(train_dir,target_size=(224,224),class_mode='categorical',batch_size=32)\n",
        "\n",
        "\n",
        "num_classes = train_generator.num_classes"
      ]
    },
    {
      "cell_type": "code",
      "execution_count": 3,
      "metadata": {
        "colab": {
          "base_uri": "https://localhost:8080/"
        },
        "id": "C-YWiS6PefGv",
        "outputId": "29bba81b-f516-4709-ea3f-261616e718df"
      },
      "outputs": [
        {
          "name": "stdout",
          "output_type": "stream",
          "text": [
            "Found 404 images belonging to 4 classes.\n"
          ]
        }
      ],
      "source": [
        "test_dir = 'Test'\n",
        "test_generator = datagen.flow_from_directory(test_dir,target_size=(224,224),class_mode='categorical',batch_size=32)"
      ]
    },
    {
      "cell_type": "code",
      "execution_count": 4,
      "metadata": {
        "colab": {
          "base_uri": "https://localhost:8080/"
        },
        "id": "yYyKR9yNgwZd",
        "outputId": "9e11c414-960b-4420-e5e9-5802349be881"
      },
      "outputs": [
        {
          "name": "stdout",
          "output_type": "stream",
          "text": [
            "Found 14473 images belonging to 4 classes.\n",
            "Found 3616 images belonging to 4 classes.\n",
            "Número de archivos de entrenamiento: 11578\n",
            "Número de archivos de validación: 2895\n"
          ]
        }
      ],
      "source": [
        "import os\n",
        "from sklearn.model_selection import train_test_split\n",
        "from keras.preprocessing.image import ImageDataGenerator\n",
        "\n",
        "# Ruta del conjunto de entrenamiento\n",
        "ruta_entrenamiento = 'NewDS'\n",
        "\n",
        "# Proporción del conjunto de validación\n",
        "proporcion_validacion = 0.2\n",
        "\n",
        "# Crear un objeto ImageDataGenerator\n",
        "datagen = ImageDataGenerator(validation_split=proporcion_validacion,rescale=1./255)\n",
        "\n",
        "\n",
        "# Cargar los datos de entrenamiento y validación utilizando ImageDataGenerator\n",
        "train_generator = datagen.flow_from_directory(ruta_entrenamiento,\n",
        "                                              target_size=(224, 224),\n",
        "                                              batch_size=8,\n",
        "                                              class_mode='categorical',\n",
        "                                              subset='training',)\n",
        "num_classes = train_generator.num_classes\n",
        "\n",
        "val_generator = datagen.flow_from_directory(ruta_entrenamiento,\n",
        "                                            target_size=(224, 224),\n",
        "                                            batch_size=8,\n",
        "                                            class_mode='categorical',\n",
        "                                            subset='validation',)\n",
        "\n",
        "# Dividir los datos de entrenamiento en conjuntos de entrenamiento y validación utilizando train_test_split\n",
        "train_files, val_files = train_test_split(train_generator.filenames, test_size=proporcion_validacion, random_state=42)\n",
        "\n",
        "# Imprimir el número de archivos en el conjunto de entrenamiento y validación\n",
        "print(f'Número de archivos de entrenamiento: {len(train_files)}')\n",
        "print(f'Número de archivos de validación: {len(val_files)}')"
      ]
    },
    {
      "attachments": {},
      "cell_type": "markdown",
      "metadata": {
        "id": "1DYJpjD-2j6c"
      },
      "source": [
        "**Model**"
      ]
    },
    {
      "cell_type": "code",
      "execution_count": 5,
      "metadata": {
        "id": "RkqFYcvF4Fxa"
      },
      "outputs": [],
      "source": [
        "pre = tf.keras.metrics.Precision()\n",
        "acc = tf.keras.metrics.CategoricalAccuracy()\n",
        "batch_size = 16\n"
      ]
    },
    {
      "cell_type": "code",
      "execution_count": 6,
      "metadata": {
        "colab": {
          "base_uri": "https://localhost:8080/"
        },
        "id": "RwlE1isp2bnC",
        "outputId": "7b412de4-f90e-4e84-a6d4-98223fe25db7"
      },
      "outputs": [],
      "source": [
        "from keras.models import Model\n",
        "from keras.layers import Input, concatenate, Dense, Dropout, Flatten,Reshape\n",
        "from keras.applications.densenet import DenseNet121\n",
        "from keras.applications.resnet import ResNet152\n",
        "from keras.applications.inception_v3 import InceptionV3\n",
        "from keras.applications.xception import Xception\n",
        "from keras import backend\n",
        "\n",
        "# Load DenseNet121 model\n",
        "densenet_model = DenseNet121(weights=None)\n",
        "\n",
        "# Load ResNet152 model\n",
        "resnet_model = ResNet152(weights=None)\n",
        "\n",
        "# # Load InceptionV3 model\n",
        "# inception_model = InceptionV3(weights=None)\n",
        "\n",
        "# # Load Xception model\n",
        "#xception_model = Xception(weights=None)\n",
        "\n",
        "# Define the input shape for all models\n",
        "input_shape = (224, 224, 3)\n",
        "\n",
        "# Define the input tensor for all models\n",
        "input_tensor = Input(shape=input_shape)\n",
        "\n",
        "# Get the output tensors for all models\n",
        "densenet_output = densenet_model(input_tensor)\n",
        "resnet_output = resnet_model(input_tensor)\n",
        "# inception_output = inception_model(input_tensor)\n",
        "#xception_output = xception_model(input_tensor)\n",
        "\n",
        "# Concatenate the outputs of all models\n",
        "merged = concatenate([densenet_output,resnet_output])\n",
        "\n",
        "# Add a fully-connected layer with dropout and a logistic layer for the number of classes\n",
        "x = Dense(1024, activation='relu')(merged)\n",
        "x = Dropout(0.5)(x)\n",
        "predictions = Dense(num_classes, activation='softmax')(x)\n",
        "\n",
        "\n",
        "# predicted_class = np.argmax(predictions,axis=1)\n",
        "# reshape_layer = Reshape((1,))\n",
        "# predicted_class_reshaped= reshape_layer(predicted_class)\n",
        "\n",
        "# Define the model with input tensor and output tensor\n",
        "model = Model(inputs=input_tensor, outputs=predictions)\n",
        "\n",
        "# Compile the model with categorical cross-entropy loss and Adam optimizer\n",
        "\n",
        "model.compile(loss='categorical_crossentropy', optimizer='adam', metrics=[acc,pre])\n"
      ]
    },
    {
      "cell_type": "code",
      "execution_count": 7,
      "metadata": {
        "id": "gYA3RgTjGH8z"
      },
      "outputs": [],
      "source": [
        "logdir = 'logs'"
      ]
    },
    {
      "cell_type": "code",
      "execution_count": 8,
      "metadata": {
        "id": "s2xX-Sp-GH_G"
      },
      "outputs": [],
      "source": [
        "tensorboard_callback = tf.keras.callbacks.TensorBoard(log_dir=logdir)"
      ]
    },
    {
      "cell_type": "code",
      "execution_count": 9,
      "metadata": {
        "colab": {
          "base_uri": "https://localhost:8080/"
        },
        "id": "1mOsZvOZQqWQ",
        "outputId": "3ab88f19-a687-443d-bb01-8b762de34be1"
      },
      "outputs": [
        {
          "name": "stdout",
          "output_type": "stream",
          "text": [
            "Epoch 1/5\n",
            "70/70 [==============================] - 2730s 38s/step - loss: 1.1797 - categorical_accuracy: 0.5446 - precision: 0.5887 - val_loss: 1.2789 - val_categorical_accuracy: 0.5592 - val_precision: 0.5592\n",
            "Epoch 2/5\n",
            "70/70 [==============================] - 2135s 31s/step - loss: 1.1407 - categorical_accuracy: 0.5375 - precision: 0.6853 - val_loss: 1.1796 - val_categorical_accuracy: 0.5592 - val_precision: 0.6425\n",
            "Epoch 3/5\n",
            "70/70 [==============================] - 1881s 27s/step - loss: 1.0813 - categorical_accuracy: 0.5929 - precision: 0.6687 - val_loss: 1.2814 - val_categorical_accuracy: 0.5592 - val_precision: 0.5770\n",
            "Epoch 4/5\n",
            "70/70 [==============================] - 1951s 28s/step - loss: 1.1358 - categorical_accuracy: 0.5429 - precision: 0.7215 - val_loss: 1.3218 - val_categorical_accuracy: 0.5592 - val_precision: 0.5632\n",
            "Epoch 5/5\n",
            "70/70 [==============================] - 1956s 28s/step - loss: 1.0919 - categorical_accuracy: 0.5286 - precision: 0.7763 - val_loss: 1.2602 - val_categorical_accuracy: 0.5592 - val_precision: 0.5908\n"
          ]
        }
      ],
      "source": [
        "history_model = model.fit(train_generator,epochs=5,steps_per_epoch=70,validation_data=val_generator,callbacks=[tensorboard_callback],batch_size=8)"
      ]
    },
    {
      "cell_type": "code",
      "execution_count": 10,
      "metadata": {
        "colab": {
          "base_uri": "https://localhost:8080/"
        },
        "id": "9TLrbGPdGIDt",
        "outputId": "00c889d5-38c8-402b-a4e6-02baca847509"
      },
      "outputs": [
        {
          "data": {
            "text/plain": [
              "{'loss': [1.179683804512024,\n",
              "  1.1407405138015747,\n",
              "  1.0812573432922363,\n",
              "  1.1357804536819458,\n",
              "  1.0919469594955444],\n",
              " 'categorical_accuracy': [0.5446428656578064,\n",
              "  0.5375000238418579,\n",
              "  0.5928571224212646,\n",
              "  0.5428571701049805,\n",
              "  0.5285714268684387],\n",
              " 'precision': [0.588652491569519,\n",
              "  0.6853147149085999,\n",
              "  0.6686930060386658,\n",
              "  0.7214611768722534,\n",
              "  0.7763158082962036],\n",
              " 'val_loss': [1.2789350748062134,\n",
              "  1.179618239402771,\n",
              "  1.281445026397705,\n",
              "  1.3217947483062744,\n",
              "  1.260178565979004],\n",
              " 'val_categorical_accuracy': [0.5591813921928406,\n",
              "  0.5591813921928406,\n",
              "  0.5591813921928406,\n",
              "  0.5591813921928406,\n",
              "  0.5591813921928406],\n",
              " 'val_precision': [0.5591813921928406,\n",
              "  0.6425158977508545,\n",
              "  0.5769696831703186,\n",
              "  0.5631779432296753,\n",
              "  0.5908209681510925]}"
            ]
          },
          "execution_count": 10,
          "metadata": {},
          "output_type": "execute_result"
        }
      ],
      "source": [
        "history_model.history"
      ]
    },
    {
      "cell_type": "code",
      "execution_count": 11,
      "metadata": {
        "colab": {
          "base_uri": "https://localhost:8080/"
        },
        "id": "C3kLKVEnbmsF",
        "outputId": "8f690a21-95c9-4716-cda1-4760d54329ff"
      },
      "outputs": [
        {
          "name": "stdout",
          "output_type": "stream",
          "text": [
            "13/13 [==============================] - 110s 8s/step\n",
            "Error rate: 0.75\n"
          ]
        }
      ],
      "source": [
        "import numpy as np\n",
        "\n",
        "# Obtener las predicciones para el conjunto de datos de prueba\n",
        "predictions = model.predict(test_generator)\n",
        "\n",
        "# Obtener el índice de la clase con la probabilidad más alta para cada entrada\n",
        "predicted_classes = np.argmax(predictions, axis=1)\n",
        "\n",
        "# Obtener las etiquetas verdaderas del conjunto de datos de prueba\n",
        "true_classes = test_generator.classes\n",
        "\n",
        "# Calcular la tasa de error\n",
        "error_rate = np.mean(predicted_classes != true_classes)\n",
        "\n",
        "# Imprimir la tasa de error\n",
        "print('Error rate:', error_rate)"
      ]
    },
    {
      "cell_type": "code",
      "execution_count": 13,
      "metadata": {
        "colab": {
          "base_uri": "https://localhost:8080/",
          "height": 488
        },
        "id": "_y8BpODYWZDk",
        "outputId": "bbe61982-e449-4e35-8481-007fce975f26"
      },
      "outputs": [
        {
          "data": {
            "image/png": "[encoded data removed]",
            "text/plain": [
              "<Figure size 1500x500 with 3 Axes>"
            ]
          },
          "metadata": {},
          "output_type": "display_data"
        }
      ],
      "source": [
        "import matplotlib.pyplot as plt\n",
        "\n",
        "# Obtener los datos de entrenamiento\n",
        "train_loss = history_model.history['loss']\n",
        "train_acc = history_model.history['categorical_accuracy']\n",
        "train_prec = history_model.history['precision']\n",
        "\n",
        "# Obtener los datos de validación\n",
        "val_loss = history_model.history['val_loss']\n",
        "val_acc = history_model.history['val_categorical_accuracy']\n",
        "val_prec = history_model.history['val_precision']\n",
        "\n",
        "# Crear subplots para las métricas\n",
        "fig, (ax1, ax2, ax3) = plt.subplots(1, 3, figsize=(15, 5))\n",
        "\n",
        "# Plotear la pérdida\n",
        "ax1.plot(train_loss, label='Training Loss')\n",
        "ax1.plot(val_loss, label='Validation Loss')\n",
        "ax1.set_title('Loss')\n",
        "ax1.legend()\n",
        "\n",
        "# Plotear la precisión\n",
        "ax2.plot(train_acc, label='Training Accuracy')\n",
        "ax2.plot(val_acc, label='Validation Accuracy')\n",
        "ax2.set_title('Accuracy')\n",
        "ax2.legend()\n",
        "\n",
        "# Plotear la precisión de la clase positiva\n",
        "ax3.plot(train_prec, label='Training Precision')\n",
        "ax3.plot(val_prec, label='Validation Precision')\n",
        "ax3.set_title('Positive Precision')\n",
        "ax3.legend()\n",
        "\n",
        "plt.show()"
      ]
    },
    {
      "cell_type": "code",
      "execution_count": 14,
      "metadata": {
        "colab": {
          "base_uri": "https://localhost:8080/",
          "height": 474
        },
        "id": "z71QSK2PYOxk",
        "outputId": "477511e4-f92b-463f-9619-b8f4a36e93cd"
      },
      "outputs": [
        {
          "data": {
            "image/png": "[encoded data removed]",
            "text/plain": [
              "<Figure size 640x480 with 1 Axes>"
            ]
          },
          "metadata": {},
          "output_type": "display_data"
        }
      ],
      "source": [
        "import matplotlib.pyplot as plt\n",
        "# Datos de entrenamiento\n",
        "loss = [1.19437837600708,\n",
        "  1.125709891319275,\n",
        "  1.1600992679595947,\n",
        "  1.0783227682113647,\n",
        "  1.1240602731704712]\n",
        "categorical_accuracy = [0.5446428656578064,\n",
        "  0.5553571581840515,\n",
        "  0.5392857193946838,\n",
        "  0.5803571343421936,\n",
        "  0.550000011920929]\n",
        "precision =   [0.5761772990226746,\n",
        "  0.6264367699623108,\n",
        "  0.6167147159576416,\n",
        "  0.6589743494987488,\n",
        "  0.6877192854881287]\n",
        "\n",
        "# Graficar las curvas de entrenamiento\n",
        "epochs = range(1, len(loss) + 1)\n",
        "plt.plot(epochs, loss, 'b', label='Pérdida')\n",
        "plt.plot(epochs, categorical_accuracy, 'r', label='Precisión categórica')\n",
        "plt.plot(epochs, precision, 'g', label='Precisión')\n",
        "plt.title('Curvas de entrenamiento')\n",
        "plt.xlabel('Época')\n",
        "plt.legend()\n",
        "plt.show()"
      ]
    },
    {
      "cell_type": "code",
      "execution_count": 15,
      "metadata": {
        "colab": {
          "base_uri": "https://localhost:8080/",
          "height": 474
        },
        "id": "3YgvMZhLQQN7",
        "outputId": "973357b1-d241-4532-9afd-1ed71065dd70"
      },
      "outputs": [
        {
          "data": {
            "image/png": "[encoded data removed]",
            "text/plain": [
              "<Figure size 640x480 with 1 Axes>"
            ]
          },
          "metadata": {},
          "output_type": "display_data"
        }
      ],
      "source": [
        "import matplotlib.pyplot as plt\n",
        "# Datos de entrenamiento\n",
        "loss = [1.1989037990570068,\n",
        "  1.17326021194458,\n",
        "  1.308032512664795,\n",
        "  1.1469115018844604,\n",
        "  1.2665483951568604]\n",
        "categorical_accuracy = [0.5591813921928406,\n",
        "  0.5591813921928406,\n",
        "  0.18860618770122528,\n",
        "  0.5591813921928406,\n",
        "  0.5591813921928406]\n",
        "precision =   [0.0,\n",
        "  0.5591813921928406,\n",
        "  0.6000000238418579,\n",
        "  0.602435290813446,\n",
        "  0.570483922958374]\n",
        "\n",
        "# Graficar las curvas de entrenamiento\n",
        "epochs = range(1, len(loss) + 1)\n",
        "plt.plot(epochs, loss, 'b', label='Pérdida')\n",
        "plt.plot(epochs, categorical_accuracy, 'r', label='Precisión categórica')\n",
        "plt.plot(epochs, precision, 'g', label='Precisión')\n",
        "plt.title('Curvas de validación')\n",
        "plt.xlabel('Época')\n",
        "plt.legend()\n",
        "plt.show()"
      ]
    }
  ],
  "metadata": {
    "accelerator": "GPU",
    "colab": {
      "gpuType": "T4",
      "provenance": []
    },
    "kernelspec": {
      "display_name": "Python 3",
      "name": "python3"
    },
    "language_info": {
      "codemirror_mode": {
        "name": "ipython",
        "version": 3
      },
      "file_extension": ".py",
      "mimetype": "text/x-python",
      "name": "python",
      "nbconvert_exporter": "python",
      "pygments_lexer": "ipython3",
      "version": "3.9.1"
    }
  },
  "nbformat": 4,
  "nbformat_minor": 0
}
